{
 "cells": [
  {
   "cell_type": "code",
   "execution_count": 1,
   "metadata": {},
   "outputs": [],
   "source": [
    "import pandas as pd\n",
    "import re\n",
    "import os"
   ]
  },
  {
   "cell_type": "markdown",
   "metadata": {},
   "source": [
    "COLLECT DATA"
   ]
  },
  {
   "cell_type": "code",
   "execution_count": 4,
   "metadata": {},
   "outputs": [],
   "source": [
    "def is_date(st):\n",
    "    search_res = re.search('\\w+day, \\w+ \\d{1,2}, \\d{4}',st)\n",
    "    if search_res:\n",
    "        return True\n",
    "    else:\n",
    "        False"
   ]
  },
  {
   "cell_type": "code",
   "execution_count": 5,
   "metadata": {},
   "outputs": [
    {
     "data": {
      "text/plain": [
       "True"
      ]
     },
     "execution_count": 5,
     "metadata": {},
     "output_type": "execute_result"
    }
   ],
   "source": [
    "is_date(\"Sunday, August 15, 2021\")"
   ]
  },
  {
   "cell_type": "code",
   "execution_count": 28,
   "metadata": {},
   "outputs": [
    {
     "data": {
      "text/plain": [
       "(2021, 32, 7)"
      ]
     },
     "execution_count": 28,
     "metadata": {},
     "output_type": "execute_result"
    }
   ],
   "source": [
    "from datetime import datetime\n",
    "# datetime.strptime('Jun 1 2005  1:33PM', '%b %d %Y %I:%M%p')\n",
    "\n",
    "d = datetime.strptime('Sunday, August 15, 2021', '%A, %B %d, %Y')\n",
    "d.isocalendar()"
   ]
  },
  {
   "cell_type": "code",
   "execution_count": 7,
   "metadata": {},
   "outputs": [
    {
     "data": {
      "text/html": [
       "<div>\n",
       "<style scoped>\n",
       "    .dataframe tbody tr th:only-of-type {\n",
       "        vertical-align: middle;\n",
       "    }\n",
       "\n",
       "    .dataframe tbody tr th {\n",
       "        vertical-align: top;\n",
       "    }\n",
       "\n",
       "    .dataframe thead th {\n",
       "        text-align: right;\n",
       "    }\n",
       "</style>\n",
       "<table border=\"1\" class=\"dataframe\">\n",
       "  <thead>\n",
       "    <tr style=\"text-align: right;\">\n",
       "      <th></th>\n",
       "      <th>date</th>\n",
       "      <th>prot</th>\n",
       "      <th>fat</th>\n",
       "      <th>carbs</th>\n",
       "      <th>kcal</th>\n",
       "    </tr>\n",
       "  </thead>\n",
       "  <tbody>\n",
       "    <tr>\n",
       "      <th>0</th>\n",
       "      <td>Sunday, August 1, 2021</td>\n",
       "      <td>80.21</td>\n",
       "      <td>65.58</td>\n",
       "      <td>257.34</td>\n",
       "      <td>1971.0</td>\n",
       "    </tr>\n",
       "    <tr>\n",
       "      <th>1</th>\n",
       "      <td>Breakfast</td>\n",
       "      <td>30.87</td>\n",
       "      <td>33.76</td>\n",
       "      <td>90.52</td>\n",
       "      <td>789.0</td>\n",
       "    </tr>\n",
       "    <tr>\n",
       "      <th>2</th>\n",
       "      <td>Вологодские Продукты Бифилайф Малина-Земляника</td>\n",
       "      <td>8.00</td>\n",
       "      <td>6.25</td>\n",
       "      <td>18.50</td>\n",
       "      <td>162.0</td>\n",
       "    </tr>\n",
       "    <tr>\n",
       "      <th>3</th>\n",
       "      <td>2 1/2 x 100г, 250 g</td>\n",
       "      <td>NaN</td>\n",
       "      <td>NaN</td>\n",
       "      <td>NaN</td>\n",
       "      <td>NaN</td>\n",
       "    </tr>\n",
       "    <tr>\n",
       "      <th>4</th>\n",
       "      <td>Томилинская Форель Слабосоленая</td>\n",
       "      <td>13.80</td>\n",
       "      <td>9.00</td>\n",
       "      <td>0.00</td>\n",
       "      <td>136.0</td>\n",
       "    </tr>\n",
       "  </tbody>\n",
       "</table>\n",
       "</div>"
      ],
      "text/plain": [
       "                                               date   prot    fat   carbs  \\\n",
       "0                            Sunday, August 1, 2021  80.21  65.58  257.34   \n",
       "1                                         Breakfast  30.87  33.76   90.52   \n",
       "2    Вологодские Продукты Бифилайф Малина-Земляника   8.00   6.25   18.50   \n",
       "3                               2 1/2 x 100г, 250 g    NaN    NaN     NaN   \n",
       "4                   Томилинская Форель Слабосоленая  13.80   9.00    0.00   \n",
       "\n",
       "     kcal  \n",
       "0  1971.0  \n",
       "1   789.0  \n",
       "2   162.0  \n",
       "3     NaN  \n",
       "4   136.0  "
      ]
     },
     "execution_count": 7,
     "metadata": {},
     "output_type": "execute_result"
    }
   ],
   "source": [
    "df = pd.read_csv(\"FoodDiary_Aug_21_foods.csv\")\n",
    "df = df[['Date','Prot( g)','Fat( g)','Carbs( g)','Cals ( kcal)']]\n",
    "df.columns = ['date','prot','fat','carbs','kcal']\n",
    "df.head()"
   ]
  },
  {
   "cell_type": "code",
   "execution_count": 118,
   "metadata": {},
   "outputs": [],
   "source": [
    "from collections import OrderedDict, defaultdict\n",
    "\n",
    "def get_month_dict(path):\n",
    "    df_c = pd.read_csv(path)\n",
    "    df_c = df_c[['Date','Prot( g)','Fat( g)','Carbs( g)','Cals ( kcal)']]\n",
    "    df_c.columns = ['date','prot','fat','carbs','kcal']\n",
    "    feature_columns = ['prot','fat','carbs','kcal']\n",
    "    for _, el in df_c.iterrows():\n",
    "        if is_date(el['date']):\n",
    "            parsed_date = datetime.strptime(el['date'], '%A, %B %d, %Y')\n",
    "            current_week, current_weekday = parsed_date.isocalendar()[1:]\n",
    "            current_date_raw = el['date']\n",
    "            \n",
    "            DATE_STORAGE[current_week][current_weekday] = {'auto_sum':el[feature_columns].tolist(),'raw_date':current_date_raw}\n",
    "        elif el['date'].strip() in ('Breakfast','Lunch','Dinner','Snacks/Other'):\n",
    "            DATE_STORAGE[current_week][current_weekday][el['date'].strip()] = el[feature_columns].tolist()"
   ]
  },
  {
   "cell_type": "code",
   "execution_count": 119,
   "metadata": {},
   "outputs": [],
   "source": [
    "DATE_STORAGE = defaultdict(dict)"
   ]
  },
  {
   "cell_type": "code",
   "execution_count": 120,
   "metadata": {},
   "outputs": [
    {
     "name": "stdout",
     "output_type": "stream",
     "text": [
      "FoodDiary_Apr_21_foods.csv\n",
      "FoodDiary_Aug_21_foods.csv\n",
      "FoodDiary_Feb_21_foods.csv\n",
      "FoodDiary_Jan_21_foods.csv\n",
      "FoodDiary_Jul_21_foods.csv\n",
      "FoodDiary_Jun_21_foods.csv\n",
      "FoodDiary_Mar_21_foods.csv\n",
      "FoodDiary_May_21_foods.csv\n"
     ]
    }
   ],
   "source": [
    "for p in os.listdir('./'):\n",
    "    if p.endswith('.csv'):\n",
    "        print(p)\n",
    "        get_month_dict(p)\n"
   ]
  },
  {
   "cell_type": "code",
   "execution_count": 237,
   "metadata": {},
   "outputs": [],
   "source": [
    "# sorted(DATE_STORAGE.keys())"
   ]
  },
  {
   "cell_type": "markdown",
   "metadata": {},
   "source": [
    "PREPROCESS"
   ]
  },
  {
   "cell_type": "markdown",
   "metadata": {},
   "source": [
    "Выясним сколько дней вообще без пробелов"
   ]
  },
  {
   "cell_type": "code",
   "execution_count": 122,
   "metadata": {},
   "outputs": [],
   "source": [
    "import math\n",
    "import numpy as np"
   ]
  },
  {
   "cell_type": "code",
   "execution_count": 124,
   "metadata": {},
   "outputs": [
    {
     "data": {
      "text/plain": [
       "{'auto_sum': [94.06, 81.32, 402.0, 2358.0],\n",
       " 'raw_date': 'Saturday, January 16, 2021',\n",
       " 'Breakfast': [25.54, 26.9, 91.93, 747.0],\n",
       " 'Lunch': [31.62, 35.47, 146.22, 1033.0],\n",
       " 'Dinner': [34.9, 18.95, 96.65, 366.0],\n",
       " 'Snacks/Other': [2.0, 0.0, 67.2, 212.0]}"
      ]
     },
     "execution_count": 124,
     "metadata": {},
     "output_type": "execute_result"
    }
   ],
   "source": [
    "DATE_STORAGE[2][6]"
   ]
  },
  {
   "cell_type": "code",
   "execution_count": 125,
   "metadata": {
    "scrolled": true
   },
   "outputs": [
    {
     "data": {
      "text/plain": [
       "float"
      ]
     },
     "execution_count": 125,
     "metadata": {},
     "output_type": "execute_result"
    }
   ],
   "source": [
    "type(DATE_STORAGE[2][7]['Lunch'][0])"
   ]
  },
  {
   "cell_type": "code",
   "execution_count": 126,
   "metadata": {},
   "outputs": [
    {
     "data": {
      "text/plain": [
       "True"
      ]
     },
     "execution_count": 126,
     "metadata": {},
     "output_type": "execute_result"
    }
   ],
   "source": [
    "math.isnan(DATE_STORAGE[2][7]['Lunch'][0])"
   ]
  },
  {
   "cell_type": "code",
   "execution_count": 189,
   "metadata": {},
   "outputs": [],
   "source": [
    "food_parts = ['Breakfast','Lunch','Dinner']\n",
    "food_parts_full = ['Breakfast','Lunch','Dinner','Snacks/Other']\n",
    "def isconsistent_day(day_dict):\n",
    "    for f in food_parts:\n",
    "        if any([math.isnan(el) for el in day_dict[f]]):\n",
    "            return False\n",
    "    return True\n",
    "\n",
    "assert isconsistent_day(DATE_STORAGE[2][7]) == False\n",
    "\n",
    "assert isconsistent_day(DATE_STORAGE[2][6]) == True\n"
   ]
  },
  {
   "cell_type": "code",
   "execution_count": 128,
   "metadata": {},
   "outputs": [
    {
     "data": {
      "text/plain": [
       "{1: {'auto_sum': [90.13, 70.25, 383.93, 2088.0],\n",
       "  'raw_date': 'Monday, January 18, 2021',\n",
       "  'Breakfast': [23.36, 26.14, 160.23, 985.0],\n",
       "  'Lunch': [32.27, 31.51, 149.6, 699.0],\n",
       "  'Dinner': [34.5, 12.6, 74.1, 404.0],\n",
       "  'Snacks/Other': [nan, nan, nan, nan]},\n",
       " 2: {'auto_sum': [116.38, 84.8, 282.08, 2322.0],\n",
       "  'raw_date': 'Tuesday, January 19, 2021',\n",
       "  'Breakfast': [15.0, 9.0, 99.0, 570.0],\n",
       "  'Lunch': [26.63, 9.43, 76.5, 512.0],\n",
       "  'Dinner': [53.01, 58.31, 15.67, 788.0],\n",
       "  'Snacks/Other': [21.74, 8.06, 90.91, 452.0]},\n",
       " 3: {'auto_sum': [124.52, 95.95, 280.38, 2480.0],\n",
       "  'raw_date': 'Wednesday, January 20, 2021',\n",
       "  'Breakfast': [25.87, 19.62, 45.88, 460.0],\n",
       "  'Lunch': [48.15, 41.53, 166.4, 1234.0],\n",
       "  'Dinner': [50.5, 34.8, 68.1, 786.0],\n",
       "  'Snacks/Other': [nan, nan, nan, nan]},\n",
       " 4: {'auto_sum': [95.45, 90.94, 387.16, 2750.0],\n",
       "  'raw_date': 'Thursday, January 21, 2021',\n",
       "  'Breakfast': [26.6, 25.8, 153.7, 990.0],\n",
       "  'Lunch': [34.25, 27.45, 41.4, 548.0],\n",
       "  'Dinner': [34.6, 37.69, 192.06, 1212.0],\n",
       "  'Snacks/Other': [nan, nan, nan, nan]},\n",
       " 5: {'auto_sum': [135.56, 111.23, 327.86, 2279.0],\n",
       "  'raw_date': 'Friday, January 22, 2021',\n",
       "  'Breakfast': [38.6, 42.6, 64.0, 794.0],\n",
       "  'Lunch': [61.22, 35.25, 175.46, 920.0],\n",
       "  'Dinner': [35.74, 33.38, 88.4, 565.0],\n",
       "  'Snacks/Other': [nan, nan, nan, nan]},\n",
       " 6: {'auto_sum': [100.21, 106.3, 339.63, 2711.0],\n",
       "  'raw_date': 'Saturday, January 23, 2021',\n",
       "  'Breakfast': [15.45, 28.95, 9.3, 360.0],\n",
       "  'Lunch': [56.61, 56.55, 194.13, 1549.0],\n",
       "  'Dinner': [28.15, 20.8, 136.2, 802.0],\n",
       "  'Snacks/Other': [nan, nan, nan, nan]},\n",
       " 7: {'auto_sum': [70.75, 54.66, 174.13, 1409.0],\n",
       "  'raw_date': 'Sunday, January 24, 2021',\n",
       "  'Breakfast': [35.16, 39.81, 115.94, 900.0],\n",
       "  'Lunch': [35.59, 14.85, 58.19, 509.0],\n",
       "  'Dinner': [nan, nan, nan, nan],\n",
       "  'Snacks/Other': [nan, nan, nan, nan]}}"
      ]
     },
     "execution_count": 128,
     "metadata": {},
     "output_type": "execute_result"
    }
   ],
   "source": [
    "DATE_STORAGE[3]"
   ]
  },
  {
   "cell_type": "code",
   "execution_count": 129,
   "metadata": {},
   "outputs": [],
   "source": [
    "def is_consistent_week(week_dict):\n",
    "    if len(week_dict) < 7: return False\n",
    "    for day in week_dict:\n",
    "        if isconsistent_day(week_dict[day]) == False:\n",
    "#             print(day)\n",
    "            return False\n",
    "    return True\n",
    "# is_consistent_week(DATE_STORAGE[2])\n",
    "\n",
    "assert is_consistent_week(DATE_STORAGE[3]) == False"
   ]
  },
  {
   "cell_type": "code",
   "execution_count": 130,
   "metadata": {},
   "outputs": [
    {
     "data": {
      "text/plain": [
       "0.25"
      ]
     },
     "execution_count": 130,
     "metadata": {},
     "output_type": "execute_result"
    }
   ],
   "source": [
    "isconsistent_week = 0\n",
    "for week in DATE_STORAGE.keys():\n",
    "    if is_consistent_week(DATE_STORAGE[week]) == True:\n",
    "        isconsistent_week += 1\n",
    "        \n",
    "isconsistent_week/len(DATE_STORAGE)"
   ]
  },
  {
   "cell_type": "markdown",
   "metadata": {},
   "source": [
    "Совсем хороших неель мало. надо заполнять небитые"
   ]
  },
  {
   "cell_type": "raw",
   "metadata": {},
   "source": [
    "Если заполнено 4 дня, то добавляем остальные как день обжиралова \n",
    "[80, 80, 300 2300 ]\n",
    "\n",
    "Если внутри дня не хватает слота то добавляем туда \n",
    "[20,20, 100, 750]"
   ]
  },
  {
   "cell_type": "code",
   "execution_count": 73,
   "metadata": {},
   "outputs": [],
   "source": []
  },
  {
   "cell_type": "code",
   "execution_count": 74,
   "metadata": {},
   "outputs": [],
   "source": [
    "def is_week_adjustable(week_dict):\n",
    "    if len(week_dict) < 4: return False\n",
    "    else: return True"
   ]
  },
  {
   "cell_type": "code",
   "execution_count": 190,
   "metadata": {},
   "outputs": [
    {
     "data": {
      "text/plain": [
       "['Breakfast', 'Lunch', 'Dinner', 'Snacks/Other']"
      ]
     },
     "execution_count": 190,
     "metadata": {},
     "output_type": "execute_result"
    }
   ],
   "source": [
    "food_parts_full"
   ]
  },
  {
   "cell_type": "code",
   "execution_count": 191,
   "metadata": {},
   "outputs": [
    {
     "data": {
      "text/plain": [
       "{'adjusted_day_sum': [64.91, 97.00999999999999, 297.38, 2501.0],\n",
       " 'raw_date': 'Sunday, January 17, 2021',\n",
       " 'Breakfast': [24.91, 57.01, 97.38, 1001.0],\n",
       " 'Lunch': [nan, nan, nan, nan],\n",
       " 'Dinner': [nan, nan, nan, nan],\n",
       " 'Snacks/Other': [nan, nan, nan, nan]}"
      ]
     },
     "execution_count": 191,
     "metadata": {},
     "output_type": "execute_result"
    }
   ],
   "source": [
    "def adjust_day(day_dict):\n",
    "    list_foods = []\n",
    "    for f in food_parts:\n",
    "        if any([math.isnan(el) for el in day_dict[f]]):\n",
    "            list_foods.append([20,20, 100, 750])\n",
    "        else:\n",
    "            list_foods.append(day_dict[f])\n",
    "    if not any([math.isnan(el) for el in day_dict['Snacks/Other']]):\n",
    "        list_foods.append(day_dict['Snacks/Other'])\n",
    "    list_foods = np.array(list_foods)\n",
    "    list_foods_sum = np.sum(list_foods, axis=0)\n",
    "    \n",
    "    adj_dict = {'adjusted_day_sum':list_foods_sum.tolist()}\n",
    "    \n",
    "    adj_dict = {**adj_dict, **day_dict}\n",
    "    del adj_dict['auto_sum']\n",
    "    return adj_dict\n",
    "    \n",
    "    \n",
    "adjust_day(DATE_STORAGE[2][7])"
   ]
  },
  {
   "cell_type": "code",
   "execution_count": 192,
   "metadata": {},
   "outputs": [
    {
     "data": {
      "text/plain": [
       "{1: {'auto_sum': [121.9, 75.46, 437.81, 2940.0],\n",
       "  'raw_date': 'Monday, January 11, 2021',\n",
       "  'Breakfast': [38.43, 27.5, 162.31, 1076.0],\n",
       "  'Lunch': [29.26, 28.36, 67.26, 641.0],\n",
       "  'Dinner': [26.35, 6.7, 90.0, 521.0],\n",
       "  'Snacks/Other': [27.86, 12.9, 118.24, 702.0]},\n",
       " 2: {'auto_sum': [109.11, 49.31, 412.42, 1581.0],\n",
       "  'raw_date': 'Tuesday, January 12, 2021',\n",
       "  'Breakfast': [33.85, 9.95, 82.61, 313.0],\n",
       "  'Lunch': [41.83, 27.97, 209.13, 907.0],\n",
       "  'Dinner': [33.43, 11.39, 120.68, 361.0],\n",
       "  'Snacks/Other': [nan, nan, nan, nan]},\n",
       " 3: {'auto_sum': [120.98, 102.14, 176.61, 1913.0],\n",
       "  'raw_date': 'Wednesday, January 13, 2021',\n",
       "  'Breakfast': [28.7, 33.04, 6.4, 439.0],\n",
       "  'Lunch': [28.37, 7.62, 89.75, 342.0],\n",
       "  'Dinner': [17.56, 44.88, 23.66, 557.0],\n",
       "  'Snacks/Other': [46.35, 16.6, 56.8, 575.0]},\n",
       " 4: {'auto_sum': [85.45, 60.56, 395.98, 2499.0],\n",
       "  'raw_date': 'Thursday, January 14, 2021',\n",
       "  'Breakfast': [26.85, 16.56, 188.83, 1026.0],\n",
       "  'Lunch': [27.1, 13.25, 105.15, 662.0],\n",
       "  'Dinner': [31.5, 30.75, 102.0, 811.0],\n",
       "  'Snacks/Other': [nan, nan, nan, nan]},\n",
       " 5: {'auto_sum': [92.66, 87.63, 314.52, 2102.0],\n",
       "  'raw_date': 'Friday, January 15, 2021',\n",
       "  'Breakfast': [12.18, 21.05, 66.25, 501.0],\n",
       "  'Lunch': [13.6, 13.65, 54.3, 387.0],\n",
       "  'Dinner': [31.72, 22.62, 85.93, 376.0],\n",
       "  'Snacks/Other': [35.16, 30.31, 108.04, 838.0]},\n",
       " 6: {'auto_sum': [94.06, 81.32, 402.0, 2358.0],\n",
       "  'raw_date': 'Saturday, January 16, 2021',\n",
       "  'Breakfast': [25.54, 26.9, 91.93, 747.0],\n",
       "  'Lunch': [31.62, 35.47, 146.22, 1033.0],\n",
       "  'Dinner': [34.9, 18.95, 96.65, 366.0],\n",
       "  'Snacks/Other': [2.0, 0.0, 67.2, 212.0]},\n",
       " 7: {'adjusted_day_sum': [64.91, 97.00999999999999, 297.38, 2501.0],\n",
       "  'raw_date': 'Sunday, January 17, 2021',\n",
       "  'Breakfast': [24.91, 57.01, 97.38, 1001.0],\n",
       "  'Lunch': [nan, nan, nan, nan],\n",
       "  'Dinner': [nan, nan, nan, nan],\n",
       "  'Snacks/Other': [nan, nan, nan, nan]}}"
      ]
     },
     "execution_count": 192,
     "metadata": {},
     "output_type": "execute_result"
    }
   ],
   "source": [
    "def adjust_week(week_dict):\n",
    "    adjusted_week = {}\n",
    "    for i in range(1,8):\n",
    "        if i in week_dict:\n",
    "            if isconsistent_day(week_dict[i]) == True:\n",
    "                adjusted_week[i] = week_dict[i]\n",
    "            else:\n",
    "                adjusted_week[i] = adjust_day(week_dict[i])\n",
    "        else:\n",
    "            adjusted_week[i] = {'full_replace_day_sum':[80, 80, 300, 2300]}\n",
    "            \n",
    "    return adjusted_week\n",
    "        \n",
    "adjust_week(DATE_STORAGE[2])"
   ]
  },
  {
   "cell_type": "code",
   "execution_count": 193,
   "metadata": {},
   "outputs": [],
   "source": [
    "adjustable_or_consistent_weeks = 0\n",
    "Adjusted_date_storage = defaultdict(dict)\n",
    "\n",
    "for week_ind, week_dict in DATE_STORAGE.items():\n",
    "    if is_week_adjustable(week_dict):\n",
    "        if is_consistent_week(week_dict) == True:\n",
    "            Adjusted_date_storage[week_ind] = week_dict\n",
    "        else:\n",
    "            adjusted_week = adjust_week(week_dict)\n",
    "            Adjusted_date_storage[week_ind] = adjusted_week\n",
    "        \n",
    "# adjustable_or_consistent_weeks/len(DATE_STORAGE) = 0.87"
   ]
  },
  {
   "cell_type": "code",
   "execution_count": 194,
   "metadata": {},
   "outputs": [
    {
     "data": {
      "text/plain": [
       "(29, 32)"
      ]
     },
     "execution_count": 194,
     "metadata": {},
     "output_type": "execute_result"
    }
   ],
   "source": [
    "len(Adjusted_date_storage),len(DATE_STORAGE)"
   ]
  },
  {
   "cell_type": "code",
   "execution_count": 195,
   "metadata": {
    "scrolled": true
   },
   "outputs": [
    {
     "data": {
      "text/plain": [
       "[2,\n",
       " 3,\n",
       " 4,\n",
       " 5,\n",
       " 6,\n",
       " 7,\n",
       " 8,\n",
       " 9,\n",
       " 10,\n",
       " 11,\n",
       " 12,\n",
       " 13,\n",
       " 14,\n",
       " 15,\n",
       " 16,\n",
       " 17,\n",
       " 18,\n",
       " 19,\n",
       " 21,\n",
       " 22,\n",
       " 23,\n",
       " 24,\n",
       " 25,\n",
       " 26,\n",
       " 27,\n",
       " 30,\n",
       " 32,\n",
       " 33,\n",
       " 34]"
      ]
     },
     "execution_count": 195,
     "metadata": {},
     "output_type": "execute_result"
    }
   ],
   "source": [
    "sorted(Adjusted_date_storage.keys())"
   ]
  },
  {
   "cell_type": "code",
   "execution_count": 196,
   "metadata": {},
   "outputs": [],
   "source": [
    "collected_data_list = []\n",
    "for week_ind in sorted(Adjusted_date_storage.keys()):\n",
    "    week_dict = Adjusted_date_storage[week_ind]\n",
    "    weekdays_consumption = []\n",
    "    for week_day in range(1,8):\n",
    "        for possible_daysum_key in ('auto_sum','adjusted_day_sum','full_replace_day_sum'):\n",
    "            if possible_daysum_key in week_dict[week_day]:\n",
    "                weekdays_consumption.append(week_dict[week_day][possible_daysum_key])\n",
    "                \n",
    "    mean_week_consumption = [round(el) for el in np.mean(weekdays_consumption, axis = 0).tolist()]\n",
    "#     print(mean_week_consumption)\n",
    "    current_week_record = [week_ind]\n",
    "    current_week_record.extend(mean_week_consumption)\n",
    "    \n",
    "    collected_data_list.append(current_week_record)\n",
    "df_collected = pd.DataFrame(data = collected_data_list, columns = ['weekind','prot', 'fat', 'carbs', 'kcal'])    "
   ]
  },
  {
   "cell_type": "code",
   "execution_count": 200,
   "metadata": {},
   "outputs": [
    {
     "data": {
      "text/plain": [
       "[[88.77, 69.11, 311.7, 1900.0],\n",
       " [71.26, 68.64, 238.26, 2063.0],\n",
       " [76.64, 78.49, 259.57, 2026.0],\n",
       " [128.98, 75.95, 268.28, 1954.0],\n",
       " [116.65, 108.24, 273.08, 2336.0],\n",
       " [105.97, 91.33000000000001, 206.34, 2165.0],\n",
       " [67.67, 74.9, 270.59000000000003, 2194.0]]"
      ]
     },
     "execution_count": 200,
     "metadata": {},
     "output_type": "execute_result"
    }
   ],
   "source": [
    "weekdays_consumption"
   ]
  },
  {
   "cell_type": "code",
   "execution_count": 202,
   "metadata": {},
   "outputs": [
    {
     "data": {
      "text/html": [
       "<div>\n",
       "<style scoped>\n",
       "    .dataframe tbody tr th:only-of-type {\n",
       "        vertical-align: middle;\n",
       "    }\n",
       "\n",
       "    .dataframe tbody tr th {\n",
       "        vertical-align: top;\n",
       "    }\n",
       "\n",
       "    .dataframe thead th {\n",
       "        text-align: right;\n",
       "    }\n",
       "</style>\n",
       "<table border=\"1\" class=\"dataframe\">\n",
       "  <thead>\n",
       "    <tr style=\"text-align: right;\">\n",
       "      <th></th>\n",
       "      <th>weekind</th>\n",
       "      <th>prot</th>\n",
       "      <th>fat</th>\n",
       "      <th>carbs</th>\n",
       "      <th>kcal</th>\n",
       "    </tr>\n",
       "  </thead>\n",
       "  <tbody>\n",
       "    <tr>\n",
       "      <th>0</th>\n",
       "      <td>2</td>\n",
       "      <td>98</td>\n",
       "      <td>79</td>\n",
       "      <td>348</td>\n",
       "      <td>2271</td>\n",
       "    </tr>\n",
       "    <tr>\n",
       "      <th>1</th>\n",
       "      <td>3</td>\n",
       "      <td>108</td>\n",
       "      <td>91</td>\n",
       "      <td>325</td>\n",
       "      <td>2398</td>\n",
       "    </tr>\n",
       "    <tr>\n",
       "      <th>2</th>\n",
       "      <td>4</td>\n",
       "      <td>99</td>\n",
       "      <td>103</td>\n",
       "      <td>272</td>\n",
       "      <td>2398</td>\n",
       "    </tr>\n",
       "    <tr>\n",
       "      <th>3</th>\n",
       "      <td>5</td>\n",
       "      <td>106</td>\n",
       "      <td>97</td>\n",
       "      <td>262</td>\n",
       "      <td>2290</td>\n",
       "    </tr>\n",
       "    <tr>\n",
       "      <th>4</th>\n",
       "      <td>6</td>\n",
       "      <td>88</td>\n",
       "      <td>61</td>\n",
       "      <td>236</td>\n",
       "      <td>1770</td>\n",
       "    </tr>\n",
       "    <tr>\n",
       "      <th>5</th>\n",
       "      <td>7</td>\n",
       "      <td>92</td>\n",
       "      <td>70</td>\n",
       "      <td>243</td>\n",
       "      <td>2016</td>\n",
       "    </tr>\n",
       "    <tr>\n",
       "      <th>6</th>\n",
       "      <td>8</td>\n",
       "      <td>86</td>\n",
       "      <td>81</td>\n",
       "      <td>196</td>\n",
       "      <td>1853</td>\n",
       "    </tr>\n",
       "    <tr>\n",
       "      <th>7</th>\n",
       "      <td>9</td>\n",
       "      <td>88</td>\n",
       "      <td>92</td>\n",
       "      <td>223</td>\n",
       "      <td>1962</td>\n",
       "    </tr>\n",
       "    <tr>\n",
       "      <th>8</th>\n",
       "      <td>10</td>\n",
       "      <td>111</td>\n",
       "      <td>65</td>\n",
       "      <td>290</td>\n",
       "      <td>2005</td>\n",
       "    </tr>\n",
       "    <tr>\n",
       "      <th>9</th>\n",
       "      <td>11</td>\n",
       "      <td>94</td>\n",
       "      <td>74</td>\n",
       "      <td>228</td>\n",
       "      <td>1930</td>\n",
       "    </tr>\n",
       "  </tbody>\n",
       "</table>\n",
       "</div>"
      ],
      "text/plain": [
       "   weekind  prot  fat  carbs  kcal\n",
       "0        2    98   79    348  2271\n",
       "1        3   108   91    325  2398\n",
       "2        4    99  103    272  2398\n",
       "3        5   106   97    262  2290\n",
       "4        6    88   61    236  1770\n",
       "5        7    92   70    243  2016\n",
       "6        8    86   81    196  1853\n",
       "7        9    88   92    223  1962\n",
       "8       10   111   65    290  2005\n",
       "9       11    94   74    228  1930"
      ]
     },
     "execution_count": 202,
     "metadata": {},
     "output_type": "execute_result"
    }
   ],
   "source": [
    "df_collected.head(10)"
   ]
  },
  {
   "cell_type": "code",
   "execution_count": 205,
   "metadata": {},
   "outputs": [],
   "source": [
    "df_collected.to_csv(\"averaged_kkcal_consistent.csv\", index = None)"
   ]
  },
  {
   "cell_type": "code",
   "execution_count": 258,
   "metadata": {},
   "outputs": [
    {
     "data": {
      "text/plain": [
       "{1: {'auto_sum': [82.43, 80.64, 184.04, 1798.0],\n",
       "  'raw_date': 'Monday, July 5, 2021',\n",
       "  'Breakfast': [23.18, 30.89, 42.46, 541.0],\n",
       "  'Lunch': [39.25, 31.5, 60.48, 683.0],\n",
       "  'Dinner': [20.0, 18.25, 81.1, 574.0],\n",
       "  'Snacks/Other': [nan, nan, nan, nan]},\n",
       " 2: {'auto_sum': [101.3, 136.48, 135.45, 2162.0],\n",
       "  'raw_date': 'Tuesday, July 6, 2021',\n",
       "  'Breakfast': [29.48, 35.1, 31.78, 561.0],\n",
       "  'Lunch': [16.0, 14.58, 37.7, 335.0],\n",
       "  'Dinner': [55.82, 86.8, 65.97, 1266.0],\n",
       "  'Snacks/Other': [nan, nan, nan, nan]},\n",
       " 3: {'adjusted_day_sum': [63.97, 76.41, 211.85, 1878.0],\n",
       "  'raw_date': 'Wednesday, July 7, 2021',\n",
       "  'Breakfast': [28.26, 36.92, 36.9, 592.0],\n",
       "  'Lunch': [15.71, 19.49, 74.95, 536.0],\n",
       "  'Dinner': [nan, nan, nan, nan],\n",
       "  'Snacks/Other': [nan, nan, nan, nan]},\n",
       " 4: {'full_replace_day_sum': [80, 80, 300, 2300]},\n",
       " 5: {'auto_sum': [52.32, 96.78, 137.97, 1640.0],\n",
       "  'raw_date': 'Friday, July 9, 2021',\n",
       "  'Breakfast': [23.98, 31.3, 1.88, 385.0],\n",
       "  'Lunch': [15.16, 46.08, 86.77, 825.0],\n",
       "  'Dinner': [13.18, 19.4, 49.32, 430.0],\n",
       "  'Snacks/Other': [nan, nan, nan, nan]},\n",
       " 6: {'adjusted_day_sum': [60.1, 92.33, 229.49, 2193.0],\n",
       "  'raw_date': 'Saturday, July 10, 2021',\n",
       "  'Breakfast': [20.1, 52.33, 29.49, 693.0],\n",
       "  'Lunch': [nan, nan, nan, nan],\n",
       "  'Dinner': [nan, nan, nan, nan],\n",
       "  'Snacks/Other': [nan, nan, nan, nan]},\n",
       " 7: {'full_replace_day_sum': [80, 80, 300, 2300]}}"
      ]
     },
     "execution_count": 258,
     "metadata": {},
     "output_type": "execute_result"
    }
   ],
   "source": [
    "Adjusted_date_storage[27]"
   ]
  },
  {
   "cell_type": "markdown",
   "metadata": {},
   "source": [
    "Merge with weight"
   ]
  },
  {
   "cell_type": "code",
   "execution_count": 232,
   "metadata": {},
   "outputs": [],
   "source": [
    "from datetime import datetime"
   ]
  },
  {
   "cell_type": "code",
   "execution_count": 254,
   "metadata": {},
   "outputs": [
    {
     "name": "stdout",
     "output_type": "stream",
     "text": [
      "dt_object = 2020-08-26 10:28:14\n",
      "type(dt_object) = <class 'datetime.datetime'>\n"
     ]
    }
   ],
   "source": [
    "timestamp = 1598426894\n",
    "dt_object = datetime.fromtimestamp(timestamp)\n",
    "\n",
    "print(\"dt_object =\", dt_object)\n",
    "print(\"type(dt_object) =\", type(dt_object))"
   ]
  },
  {
   "cell_type": "code",
   "execution_count": null,
   "metadata": {},
   "outputs": [],
   "source": []
  },
  {
   "cell_type": "code",
   "execution_count": 238,
   "metadata": {},
   "outputs": [
    {
     "data": {
      "text/plain": [
       "(2021, 12, 2)"
      ]
     },
     "execution_count": 238,
     "metadata": {},
     "output_type": "execute_result"
    }
   ],
   "source": [
    "dt_object.isocalendar()"
   ]
  },
  {
   "cell_type": "code",
   "execution_count": 235,
   "metadata": {},
   "outputs": [],
   "source": [
    "df_weight = pd.read_csv(\"BODY_1630239177349.csv\")"
   ]
  },
  {
   "cell_type": "code",
   "execution_count": 236,
   "metadata": {},
   "outputs": [
    {
     "data": {
      "text/html": [
       "<div>\n",
       "<style scoped>\n",
       "    .dataframe tbody tr th:only-of-type {\n",
       "        vertical-align: middle;\n",
       "    }\n",
       "\n",
       "    .dataframe tbody tr th {\n",
       "        vertical-align: top;\n",
       "    }\n",
       "\n",
       "    .dataframe thead th {\n",
       "        text-align: right;\n",
       "    }\n",
       "</style>\n",
       "<table border=\"1\" class=\"dataframe\">\n",
       "  <thead>\n",
       "    <tr style=\"text-align: right;\">\n",
       "      <th></th>\n",
       "      <th>timestamp</th>\n",
       "      <th>weight</th>\n",
       "      <th>height</th>\n",
       "      <th>bmi</th>\n",
       "      <th>fatRate</th>\n",
       "      <th>bodyWaterRate</th>\n",
       "      <th>boneMass</th>\n",
       "      <th>metabolism</th>\n",
       "      <th>muscleRate</th>\n",
       "      <th>visceralFat</th>\n",
       "      <th>impedance</th>\n",
       "    </tr>\n",
       "  </thead>\n",
       "  <tbody>\n",
       "    <tr>\n",
       "      <th>0</th>\n",
       "      <td>1616475110</td>\n",
       "      <td>92.25</td>\n",
       "      <td>176.0</td>\n",
       "      <td>29.781120</td>\n",
       "      <td>0.0</td>\n",
       "      <td>0.0</td>\n",
       "      <td>0.00</td>\n",
       "      <td>0.0</td>\n",
       "      <td>0.00</td>\n",
       "      <td>0.0</td>\n",
       "      <td>0</td>\n",
       "    </tr>\n",
       "    <tr>\n",
       "      <th>1</th>\n",
       "      <td>1616392684</td>\n",
       "      <td>91.55</td>\n",
       "      <td>176.0</td>\n",
       "      <td>29.555140</td>\n",
       "      <td>29.9</td>\n",
       "      <td>49.9</td>\n",
       "      <td>3.26</td>\n",
       "      <td>1873.0</td>\n",
       "      <td>60.83</td>\n",
       "      <td>12.0</td>\n",
       "      <td>472</td>\n",
       "    </tr>\n",
       "    <tr>\n",
       "      <th>2</th>\n",
       "      <td>1616132239</td>\n",
       "      <td>92.65</td>\n",
       "      <td>176.0</td>\n",
       "      <td>29.910254</td>\n",
       "      <td>0.0</td>\n",
       "      <td>0.0</td>\n",
       "      <td>0.00</td>\n",
       "      <td>0.0</td>\n",
       "      <td>0.00</td>\n",
       "      <td>0.0</td>\n",
       "      <td>0</td>\n",
       "    </tr>\n",
       "    <tr>\n",
       "      <th>3</th>\n",
       "      <td>1616045319</td>\n",
       "      <td>91.90</td>\n",
       "      <td>176.0</td>\n",
       "      <td>29.668130</td>\n",
       "      <td>0.0</td>\n",
       "      <td>0.0</td>\n",
       "      <td>0.00</td>\n",
       "      <td>0.0</td>\n",
       "      <td>0.00</td>\n",
       "      <td>0.0</td>\n",
       "      <td>0</td>\n",
       "    </tr>\n",
       "    <tr>\n",
       "      <th>4</th>\n",
       "      <td>1616045287</td>\n",
       "      <td>91.95</td>\n",
       "      <td>176.0</td>\n",
       "      <td>29.684270</td>\n",
       "      <td>0.0</td>\n",
       "      <td>0.0</td>\n",
       "      <td>0.00</td>\n",
       "      <td>0.0</td>\n",
       "      <td>0.00</td>\n",
       "      <td>0.0</td>\n",
       "      <td>0</td>\n",
       "    </tr>\n",
       "  </tbody>\n",
       "</table>\n",
       "</div>"
      ],
      "text/plain": [
       "    timestamp  weight  height        bmi  fatRate  bodyWaterRate  boneMass  \\\n",
       "0  1616475110   92.25   176.0  29.781120      0.0            0.0      0.00   \n",
       "1  1616392684   91.55   176.0  29.555140     29.9           49.9      3.26   \n",
       "2  1616132239   92.65   176.0  29.910254      0.0            0.0      0.00   \n",
       "3  1616045319   91.90   176.0  29.668130      0.0            0.0      0.00   \n",
       "4  1616045287   91.95   176.0  29.684270      0.0            0.0      0.00   \n",
       "\n",
       "   metabolism  muscleRate  visceralFat  impedance  \n",
       "0         0.0        0.00          0.0          0  \n",
       "1      1873.0       60.83         12.0        472  \n",
       "2         0.0        0.00          0.0          0  \n",
       "3         0.0        0.00          0.0          0  \n",
       "4         0.0        0.00          0.0          0  "
      ]
     },
     "execution_count": 236,
     "metadata": {},
     "output_type": "execute_result"
    }
   ],
   "source": [
    "df_weight.head()"
   ]
  },
  {
   "cell_type": "code",
   "execution_count": null,
   "metadata": {},
   "outputs": [],
   "source": []
  }
 ],
 "metadata": {
  "kernelspec": {
   "display_name": "Python 3",
   "language": "python",
   "name": "python3"
  },
  "language_info": {
   "codemirror_mode": {
    "name": "ipython",
    "version": 3
   },
   "file_extension": ".py",
   "mimetype": "text/x-python",
   "name": "python",
   "nbconvert_exporter": "python",
   "pygments_lexer": "ipython3",
   "version": "3.8.10"
  }
 },
 "nbformat": 4,
 "nbformat_minor": 4
}
