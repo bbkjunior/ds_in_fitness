{
 "cells": [
  {
   "cell_type": "code",
   "execution_count": 1,
   "metadata": {},
   "outputs": [],
   "source": [
    "import pandas as pd"
   ]
  },
  {
   "cell_type": "code",
   "execution_count": 3,
   "metadata": {},
   "outputs": [],
   "source": [
    "df = pd.read_csv(\"final_merged_data_aug21.csv\")"
   ]
  },
  {
   "cell_type": "code",
   "execution_count": 4,
   "metadata": {},
   "outputs": [
    {
     "data": {
      "text/html": [
       "<div>\n",
       "<style scoped>\n",
       "    .dataframe tbody tr th:only-of-type {\n",
       "        vertical-align: middle;\n",
       "    }\n",
       "\n",
       "    .dataframe tbody tr th {\n",
       "        vertical-align: top;\n",
       "    }\n",
       "\n",
       "    .dataframe thead th {\n",
       "        text-align: right;\n",
       "    }\n",
       "</style>\n",
       "<table border=\"1\" class=\"dataframe\">\n",
       "  <thead>\n",
       "    <tr style=\"text-align: right;\">\n",
       "      <th></th>\n",
       "      <th>weekind</th>\n",
       "      <th>prot</th>\n",
       "      <th>fat</th>\n",
       "      <th>carbs</th>\n",
       "      <th>kcal</th>\n",
       "      <th>runs</th>\n",
       "      <th>gyms</th>\n",
       "      <th>weight_begin</th>\n",
       "      <th>weight_end</th>\n",
       "      <th>week_explicit_name</th>\n",
       "      <th>comment</th>\n",
       "    </tr>\n",
       "  </thead>\n",
       "  <tbody>\n",
       "    <tr>\n",
       "      <th>0</th>\n",
       "      <td>2</td>\n",
       "      <td>98</td>\n",
       "      <td>79</td>\n",
       "      <td>348</td>\n",
       "      <td>2271</td>\n",
       "      <td>2</td>\n",
       "      <td>0</td>\n",
       "      <td>93.5</td>\n",
       "      <td>93.8</td>\n",
       "      <td>11-17 янв</td>\n",
       "      <td>NaN</td>\n",
       "    </tr>\n",
       "    <tr>\n",
       "      <th>1</th>\n",
       "      <td>3</td>\n",
       "      <td>108</td>\n",
       "      <td>91</td>\n",
       "      <td>325</td>\n",
       "      <td>2398</td>\n",
       "      <td>2</td>\n",
       "      <td>0</td>\n",
       "      <td>94.3</td>\n",
       "      <td>94.1</td>\n",
       "      <td>18-24 янв</td>\n",
       "      <td>NaN</td>\n",
       "    </tr>\n",
       "    <tr>\n",
       "      <th>2</th>\n",
       "      <td>4</td>\n",
       "      <td>99</td>\n",
       "      <td>103</td>\n",
       "      <td>272</td>\n",
       "      <td>2398</td>\n",
       "      <td>1</td>\n",
       "      <td>3</td>\n",
       "      <td>94.1</td>\n",
       "      <td>94.7</td>\n",
       "      <td>25-31 янв</td>\n",
       "      <td>NaN</td>\n",
       "    </tr>\n",
       "    <tr>\n",
       "      <th>3</th>\n",
       "      <td>5</td>\n",
       "      <td>106</td>\n",
       "      <td>97</td>\n",
       "      <td>262</td>\n",
       "      <td>2290</td>\n",
       "      <td>1</td>\n",
       "      <td>1</td>\n",
       "      <td>94.7</td>\n",
       "      <td>94.2</td>\n",
       "      <td>1-7 фев</td>\n",
       "      <td>NaN</td>\n",
       "    </tr>\n",
       "    <tr>\n",
       "      <th>4</th>\n",
       "      <td>6</td>\n",
       "      <td>88</td>\n",
       "      <td>61</td>\n",
       "      <td>236</td>\n",
       "      <td>1770</td>\n",
       "      <td>2</td>\n",
       "      <td>1</td>\n",
       "      <td>94.2</td>\n",
       "      <td>93.1</td>\n",
       "      <td>8-14 фев</td>\n",
       "      <td>NaN</td>\n",
       "    </tr>\n",
       "  </tbody>\n",
       "</table>\n",
       "</div>"
      ],
      "text/plain": [
       "   weekind  prot  fat  carbs  kcal  runs  gyms  weight_begin  weight_end  \\\n",
       "0        2    98   79    348  2271     2     0          93.5        93.8   \n",
       "1        3   108   91    325  2398     2     0          94.3        94.1   \n",
       "2        4    99  103    272  2398     1     3          94.1        94.7   \n",
       "3        5   106   97    262  2290     1     1          94.7        94.2   \n",
       "4        6    88   61    236  1770     2     1          94.2        93.1   \n",
       "\n",
       "  week_explicit_name comment  \n",
       "0          11-17 янв     NaN  \n",
       "1          18-24 янв     NaN  \n",
       "2          25-31 янв     NaN  \n",
       "3            1-7 фев     NaN  \n",
       "4           8-14 фев     NaN  "
      ]
     },
     "execution_count": 4,
     "metadata": {},
     "output_type": "execute_result"
    }
   ],
   "source": [
    "df.head()"
   ]
  },
  {
   "cell_type": "code",
   "execution_count": 6,
   "metadata": {},
   "outputs": [],
   "source": [
    "df['weight_change'] = df.apply(lambda x: x['weight_end'] - x['weight_begin'], axis = 1)"
   ]
  },
  {
   "cell_type": "code",
   "execution_count": 7,
   "metadata": {},
   "outputs": [
    {
     "data": {
      "text/html": [
       "<div>\n",
       "<style scoped>\n",
       "    .dataframe tbody tr th:only-of-type {\n",
       "        vertical-align: middle;\n",
       "    }\n",
       "\n",
       "    .dataframe tbody tr th {\n",
       "        vertical-align: top;\n",
       "    }\n",
       "\n",
       "    .dataframe thead th {\n",
       "        text-align: right;\n",
       "    }\n",
       "</style>\n",
       "<table border=\"1\" class=\"dataframe\">\n",
       "  <thead>\n",
       "    <tr style=\"text-align: right;\">\n",
       "      <th></th>\n",
       "      <th>weekind</th>\n",
       "      <th>prot</th>\n",
       "      <th>fat</th>\n",
       "      <th>carbs</th>\n",
       "      <th>kcal</th>\n",
       "      <th>runs</th>\n",
       "      <th>gyms</th>\n",
       "      <th>weight_begin</th>\n",
       "      <th>weight_end</th>\n",
       "      <th>week_explicit_name</th>\n",
       "      <th>comment</th>\n",
       "      <th>weight_change</th>\n",
       "    </tr>\n",
       "  </thead>\n",
       "  <tbody>\n",
       "    <tr>\n",
       "      <th>0</th>\n",
       "      <td>2</td>\n",
       "      <td>98</td>\n",
       "      <td>79</td>\n",
       "      <td>348</td>\n",
       "      <td>2271</td>\n",
       "      <td>2</td>\n",
       "      <td>0</td>\n",
       "      <td>93.5</td>\n",
       "      <td>93.8</td>\n",
       "      <td>11-17 янв</td>\n",
       "      <td>NaN</td>\n",
       "      <td>0.3</td>\n",
       "    </tr>\n",
       "    <tr>\n",
       "      <th>1</th>\n",
       "      <td>3</td>\n",
       "      <td>108</td>\n",
       "      <td>91</td>\n",
       "      <td>325</td>\n",
       "      <td>2398</td>\n",
       "      <td>2</td>\n",
       "      <td>0</td>\n",
       "      <td>94.3</td>\n",
       "      <td>94.1</td>\n",
       "      <td>18-24 янв</td>\n",
       "      <td>NaN</td>\n",
       "      <td>-0.2</td>\n",
       "    </tr>\n",
       "    <tr>\n",
       "      <th>2</th>\n",
       "      <td>4</td>\n",
       "      <td>99</td>\n",
       "      <td>103</td>\n",
       "      <td>272</td>\n",
       "      <td>2398</td>\n",
       "      <td>1</td>\n",
       "      <td>3</td>\n",
       "      <td>94.1</td>\n",
       "      <td>94.7</td>\n",
       "      <td>25-31 янв</td>\n",
       "      <td>NaN</td>\n",
       "      <td>0.6</td>\n",
       "    </tr>\n",
       "    <tr>\n",
       "      <th>3</th>\n",
       "      <td>5</td>\n",
       "      <td>106</td>\n",
       "      <td>97</td>\n",
       "      <td>262</td>\n",
       "      <td>2290</td>\n",
       "      <td>1</td>\n",
       "      <td>1</td>\n",
       "      <td>94.7</td>\n",
       "      <td>94.2</td>\n",
       "      <td>1-7 фев</td>\n",
       "      <td>NaN</td>\n",
       "      <td>-0.5</td>\n",
       "    </tr>\n",
       "    <tr>\n",
       "      <th>4</th>\n",
       "      <td>6</td>\n",
       "      <td>88</td>\n",
       "      <td>61</td>\n",
       "      <td>236</td>\n",
       "      <td>1770</td>\n",
       "      <td>2</td>\n",
       "      <td>1</td>\n",
       "      <td>94.2</td>\n",
       "      <td>93.1</td>\n",
       "      <td>8-14 фев</td>\n",
       "      <td>NaN</td>\n",
       "      <td>-1.1</td>\n",
       "    </tr>\n",
       "  </tbody>\n",
       "</table>\n",
       "</div>"
      ],
      "text/plain": [
       "   weekind  prot  fat  carbs  kcal  runs  gyms  weight_begin  weight_end  \\\n",
       "0        2    98   79    348  2271     2     0          93.5        93.8   \n",
       "1        3   108   91    325  2398     2     0          94.3        94.1   \n",
       "2        4    99  103    272  2398     1     3          94.1        94.7   \n",
       "3        5   106   97    262  2290     1     1          94.7        94.2   \n",
       "4        6    88   61    236  1770     2     1          94.2        93.1   \n",
       "\n",
       "  week_explicit_name comment  weight_change  \n",
       "0          11-17 янв     NaN            0.3  \n",
       "1          18-24 янв     NaN           -0.2  \n",
       "2          25-31 янв     NaN            0.6  \n",
       "3            1-7 фев     NaN           -0.5  \n",
       "4           8-14 фев     NaN           -1.1  "
      ]
     },
     "execution_count": 7,
     "metadata": {},
     "output_type": "execute_result"
    }
   ],
   "source": [
    "df.head()"
   ]
  },
  {
   "cell_type": "code",
   "execution_count": 9,
   "metadata": {},
   "outputs": [
    {
     "data": {
      "text/html": [
       "<div>\n",
       "<style scoped>\n",
       "    .dataframe tbody tr th:only-of-type {\n",
       "        vertical-align: middle;\n",
       "    }\n",
       "\n",
       "    .dataframe tbody tr th {\n",
       "        vertical-align: top;\n",
       "    }\n",
       "\n",
       "    .dataframe thead th {\n",
       "        text-align: right;\n",
       "    }\n",
       "</style>\n",
       "<table border=\"1\" class=\"dataframe\">\n",
       "  <thead>\n",
       "    <tr style=\"text-align: right;\">\n",
       "      <th></th>\n",
       "      <th>weekind</th>\n",
       "      <th>prot</th>\n",
       "      <th>fat</th>\n",
       "      <th>carbs</th>\n",
       "      <th>kcal</th>\n",
       "      <th>runs</th>\n",
       "      <th>gyms</th>\n",
       "      <th>weight_begin</th>\n",
       "      <th>weight_end</th>\n",
       "      <th>week_explicit_name</th>\n",
       "      <th>comment</th>\n",
       "      <th>weight_change</th>\n",
       "    </tr>\n",
       "  </thead>\n",
       "  <tbody>\n",
       "    <tr>\n",
       "      <th>4</th>\n",
       "      <td>6</td>\n",
       "      <td>88</td>\n",
       "      <td>61</td>\n",
       "      <td>236</td>\n",
       "      <td>1770</td>\n",
       "      <td>2</td>\n",
       "      <td>1</td>\n",
       "      <td>94.2</td>\n",
       "      <td>93.10</td>\n",
       "      <td>8-14 фев</td>\n",
       "      <td>NaN</td>\n",
       "      <td>-1.10</td>\n",
       "    </tr>\n",
       "    <tr>\n",
       "      <th>7</th>\n",
       "      <td>9</td>\n",
       "      <td>88</td>\n",
       "      <td>92</td>\n",
       "      <td>223</td>\n",
       "      <td>1962</td>\n",
       "      <td>3</td>\n",
       "      <td>1</td>\n",
       "      <td>93.8</td>\n",
       "      <td>93.00</td>\n",
       "      <td>1-7 марта</td>\n",
       "      <td>NaN</td>\n",
       "      <td>-0.80</td>\n",
       "    </tr>\n",
       "    <tr>\n",
       "      <th>8</th>\n",
       "      <td>10</td>\n",
       "      <td>111</td>\n",
       "      <td>65</td>\n",
       "      <td>290</td>\n",
       "      <td>2005</td>\n",
       "      <td>2</td>\n",
       "      <td>1</td>\n",
       "      <td>93.0</td>\n",
       "      <td>92.40</td>\n",
       "      <td>8-14 марта</td>\n",
       "      <td>NaN</td>\n",
       "      <td>-0.60</td>\n",
       "    </tr>\n",
       "    <tr>\n",
       "      <th>9</th>\n",
       "      <td>11</td>\n",
       "      <td>94</td>\n",
       "      <td>74</td>\n",
       "      <td>228</td>\n",
       "      <td>1930</td>\n",
       "      <td>3</td>\n",
       "      <td>1</td>\n",
       "      <td>92.4</td>\n",
       "      <td>91.55</td>\n",
       "      <td>15-21 марта</td>\n",
       "      <td>NaN</td>\n",
       "      <td>-0.85</td>\n",
       "    </tr>\n",
       "    <tr>\n",
       "      <th>13</th>\n",
       "      <td>15</td>\n",
       "      <td>69</td>\n",
       "      <td>72</td>\n",
       "      <td>234</td>\n",
       "      <td>1931</td>\n",
       "      <td>3</td>\n",
       "      <td>1</td>\n",
       "      <td>91.4</td>\n",
       "      <td>90.50</td>\n",
       "      <td>12-18 апр</td>\n",
       "      <td>15 км сам на выхах</td>\n",
       "      <td>-0.90</td>\n",
       "    </tr>\n",
       "    <tr>\n",
       "      <th>14</th>\n",
       "      <td>16</td>\n",
       "      <td>76</td>\n",
       "      <td>79</td>\n",
       "      <td>175</td>\n",
       "      <td>1738</td>\n",
       "      <td>3</td>\n",
       "      <td>1</td>\n",
       "      <td>90.5</td>\n",
       "      <td>89.30</td>\n",
       "      <td>19-25 апр</td>\n",
       "      <td>NaN</td>\n",
       "      <td>-1.20</td>\n",
       "    </tr>\n",
       "    <tr>\n",
       "      <th>17</th>\n",
       "      <td>19</td>\n",
       "      <td>66</td>\n",
       "      <td>68</td>\n",
       "      <td>247</td>\n",
       "      <td>1912</td>\n",
       "      <td>3</td>\n",
       "      <td>0</td>\n",
       "      <td>90.3</td>\n",
       "      <td>89.00</td>\n",
       "      <td>10-16 мая</td>\n",
       "      <td>половинка</td>\n",
       "      <td>-1.30</td>\n",
       "    </tr>\n",
       "    <tr>\n",
       "      <th>22</th>\n",
       "      <td>25</td>\n",
       "      <td>64</td>\n",
       "      <td>69</td>\n",
       "      <td>184</td>\n",
       "      <td>1493</td>\n",
       "      <td>0</td>\n",
       "      <td>0</td>\n",
       "      <td>89.0</td>\n",
       "      <td>87.60</td>\n",
       "      <td>21-27 июн</td>\n",
       "      <td>NaN</td>\n",
       "      <td>-1.40</td>\n",
       "    </tr>\n",
       "    <tr>\n",
       "      <th>24</th>\n",
       "      <td>27</td>\n",
       "      <td>74</td>\n",
       "      <td>92</td>\n",
       "      <td>214</td>\n",
       "      <td>2039</td>\n",
       "      <td>0</td>\n",
       "      <td>0</td>\n",
       "      <td>87.8</td>\n",
       "      <td>87.10</td>\n",
       "      <td>5-11 июл</td>\n",
       "      <td>NaN</td>\n",
       "      <td>-0.70</td>\n",
       "    </tr>\n",
       "  </tbody>\n",
       "</table>\n",
       "</div>"
      ],
      "text/plain": [
       "    weekind  prot  fat  carbs  kcal  runs  gyms  weight_begin  weight_end  \\\n",
       "4         6    88   61    236  1770     2     1          94.2       93.10   \n",
       "7         9    88   92    223  1962     3     1          93.8       93.00   \n",
       "8        10   111   65    290  2005     2     1          93.0       92.40   \n",
       "9        11    94   74    228  1930     3     1          92.4       91.55   \n",
       "13       15    69   72    234  1931     3     1          91.4       90.50   \n",
       "14       16    76   79    175  1738     3     1          90.5       89.30   \n",
       "17       19    66   68    247  1912     3     0          90.3       89.00   \n",
       "22       25    64   69    184  1493     0     0          89.0       87.60   \n",
       "24       27    74   92    214  2039     0     0          87.8       87.10   \n",
       "\n",
       "   week_explicit_name             comment  weight_change  \n",
       "4            8-14 фев                 NaN          -1.10  \n",
       "7           1-7 марта                 NaN          -0.80  \n",
       "8          8-14 марта                 NaN          -0.60  \n",
       "9         15-21 марта                 NaN          -0.85  \n",
       "13          12-18 апр  15 км сам на выхах          -0.90  \n",
       "14          19-25 апр                 NaN          -1.20  \n",
       "17          10-16 мая           половинка          -1.30  \n",
       "22          21-27 июн                 NaN          -1.40  \n",
       "24           5-11 июл                 NaN          -0.70  "
      ]
     },
     "execution_count": 9,
     "metadata": {},
     "output_type": "execute_result"
    }
   ],
   "source": [
    "df[df['weight_change']<-0.5]"
   ]
  },
  {
   "cell_type": "markdown",
   "metadata": {},
   "source": [
    "Plot dependencies"
   ]
  },
  {
   "cell_type": "code",
   "execution_count": 10,
   "metadata": {},
   "outputs": [],
   "source": [
    "%matplotlib inline\n",
    "import matplotlib.pyplot as plt\n",
    "plt.style.use('seaborn-whitegrid')\n",
    "import numpy as np"
   ]
  },
  {
   "cell_type": "code",
   "execution_count": 145,
   "metadata": {},
   "outputs": [
    {
     "data": {
      "text/plain": [
       "(7, 2)"
      ]
     },
     "execution_count": 145,
     "metadata": {},
     "output_type": "execute_result"
    }
   ],
   "source": [
    "# THRESHOLD = 1\n",
    "THRESHOLD = 0.75\n",
    "\n",
    "\n",
    "df_optimal = df[df['weight_change']<-THRESHOLD]\n",
    "df_NON_optimal = df[df['weight_change']>THRESHOLD]\n",
    "len(df_optimal),len(df_NON_optimal)"
   ]
  },
  {
   "cell_type": "code",
   "execution_count": 146,
   "metadata": {},
   "outputs": [
    {
     "data": {
      "text/plain": [
       "<AxesSubplot:>"
      ]
     },
     "execution_count": 146,
     "metadata": {},
     "output_type": "execute_result"
    },
    {
     "data": {
      "image/png": "[encoded data removed]",
      "text/plain": [
       "<Figure size 432x288 with 1 Axes>"
      ]
     },
     "metadata": {},
     "output_type": "display_data"
    }
   ],
   "source": [
    "df_optimal['weight_change'].hist(bins = 3)"
   ]
  },
  {
   "cell_type": "code",
   "execution_count": 150,
   "metadata": {},
   "outputs": [
    {
     "data": {
      "text/html": [
       "<div>\n",
       "<style scoped>\n",
       "    .dataframe tbody tr th:only-of-type {\n",
       "        vertical-align: middle;\n",
       "    }\n",
       "\n",
       "    .dataframe tbody tr th {\n",
       "        vertical-align: top;\n",
       "    }\n",
       "\n",
       "    .dataframe thead th {\n",
       "        text-align: right;\n",
       "    }\n",
       "</style>\n",
       "<table border=\"1\" class=\"dataframe\">\n",
       "  <thead>\n",
       "    <tr style=\"text-align: right;\">\n",
       "      <th></th>\n",
       "      <th>weekind</th>\n",
       "      <th>prot</th>\n",
       "      <th>fat</th>\n",
       "      <th>carbs</th>\n",
       "      <th>kcal</th>\n",
       "      <th>runs</th>\n",
       "      <th>gyms</th>\n",
       "      <th>weight_begin</th>\n",
       "      <th>weight_end</th>\n",
       "      <th>week_explicit_name</th>\n",
       "      <th>comment</th>\n",
       "      <th>weight_change</th>\n",
       "    </tr>\n",
       "  </thead>\n",
       "  <tbody>\n",
       "    <tr>\n",
       "      <th>4</th>\n",
       "      <td>6</td>\n",
       "      <td>88</td>\n",
       "      <td>61</td>\n",
       "      <td>236</td>\n",
       "      <td>1770</td>\n",
       "      <td>2</td>\n",
       "      <td>1</td>\n",
       "      <td>94.2</td>\n",
       "      <td>93.10</td>\n",
       "      <td>8-14 фев</td>\n",
       "      <td>NaN</td>\n",
       "      <td>-1.10</td>\n",
       "    </tr>\n",
       "    <tr>\n",
       "      <th>7</th>\n",
       "      <td>9</td>\n",
       "      <td>88</td>\n",
       "      <td>92</td>\n",
       "      <td>223</td>\n",
       "      <td>1962</td>\n",
       "      <td>3</td>\n",
       "      <td>1</td>\n",
       "      <td>93.8</td>\n",
       "      <td>93.00</td>\n",
       "      <td>1-7 марта</td>\n",
       "      <td>NaN</td>\n",
       "      <td>-0.80</td>\n",
       "    </tr>\n",
       "    <tr>\n",
       "      <th>9</th>\n",
       "      <td>11</td>\n",
       "      <td>94</td>\n",
       "      <td>74</td>\n",
       "      <td>228</td>\n",
       "      <td>1930</td>\n",
       "      <td>3</td>\n",
       "      <td>1</td>\n",
       "      <td>92.4</td>\n",
       "      <td>91.55</td>\n",
       "      <td>15-21 марта</td>\n",
       "      <td>NaN</td>\n",
       "      <td>-0.85</td>\n",
       "    </tr>\n",
       "    <tr>\n",
       "      <th>13</th>\n",
       "      <td>15</td>\n",
       "      <td>69</td>\n",
       "      <td>72</td>\n",
       "      <td>234</td>\n",
       "      <td>1931</td>\n",
       "      <td>3</td>\n",
       "      <td>1</td>\n",
       "      <td>91.4</td>\n",
       "      <td>90.50</td>\n",
       "      <td>12-18 апр</td>\n",
       "      <td>15 км сам на выхах</td>\n",
       "      <td>-0.90</td>\n",
       "    </tr>\n",
       "    <tr>\n",
       "      <th>14</th>\n",
       "      <td>16</td>\n",
       "      <td>76</td>\n",
       "      <td>79</td>\n",
       "      <td>175</td>\n",
       "      <td>1738</td>\n",
       "      <td>3</td>\n",
       "      <td>1</td>\n",
       "      <td>90.5</td>\n",
       "      <td>89.30</td>\n",
       "      <td>19-25 апр</td>\n",
       "      <td>NaN</td>\n",
       "      <td>-1.20</td>\n",
       "    </tr>\n",
       "    <tr>\n",
       "      <th>17</th>\n",
       "      <td>19</td>\n",
       "      <td>66</td>\n",
       "      <td>68</td>\n",
       "      <td>247</td>\n",
       "      <td>1912</td>\n",
       "      <td>3</td>\n",
       "      <td>0</td>\n",
       "      <td>90.3</td>\n",
       "      <td>89.00</td>\n",
       "      <td>10-16 мая</td>\n",
       "      <td>половинка</td>\n",
       "      <td>-1.30</td>\n",
       "    </tr>\n",
       "    <tr>\n",
       "      <th>22</th>\n",
       "      <td>25</td>\n",
       "      <td>64</td>\n",
       "      <td>69</td>\n",
       "      <td>184</td>\n",
       "      <td>1493</td>\n",
       "      <td>0</td>\n",
       "      <td>0</td>\n",
       "      <td>89.0</td>\n",
       "      <td>87.60</td>\n",
       "      <td>21-27 июн</td>\n",
       "      <td>NaN</td>\n",
       "      <td>-1.40</td>\n",
       "    </tr>\n",
       "  </tbody>\n",
       "</table>\n",
       "</div>"
      ],
      "text/plain": [
       "    weekind  prot  fat  carbs  kcal  runs  gyms  weight_begin  weight_end  \\\n",
       "4         6    88   61    236  1770     2     1          94.2       93.10   \n",
       "7         9    88   92    223  1962     3     1          93.8       93.00   \n",
       "9        11    94   74    228  1930     3     1          92.4       91.55   \n",
       "13       15    69   72    234  1931     3     1          91.4       90.50   \n",
       "14       16    76   79    175  1738     3     1          90.5       89.30   \n",
       "17       19    66   68    247  1912     3     0          90.3       89.00   \n",
       "22       25    64   69    184  1493     0     0          89.0       87.60   \n",
       "\n",
       "   week_explicit_name             comment  weight_change  \n",
       "4            8-14 фев                 NaN          -1.10  \n",
       "7           1-7 марта                 NaN          -0.80  \n",
       "9         15-21 марта                 NaN          -0.85  \n",
       "13          12-18 апр  15 км сам на выхах          -0.90  \n",
       "14          19-25 апр                 NaN          -1.20  \n",
       "17          10-16 мая           половинка          -1.30  \n",
       "22          21-27 июн                 NaN          -1.40  "
      ]
     },
     "execution_count": 150,
     "metadata": {},
     "output_type": "execute_result"
    }
   ],
   "source": [
    "df_optimal"
   ]
  },
  {
   "cell_type": "code",
   "execution_count": 147,
   "metadata": {},
   "outputs": [],
   "source": [
    "optimal_calories_list = df_optimal['kcal'].tolist()\n",
    "optimal_runs_list = df_optimal['runs'].tolist()"
   ]
  },
  {
   "cell_type": "code",
   "execution_count": 148,
   "metadata": {
    "scrolled": false
   },
   "outputs": [
    {
     "data": {
      "image/png": "[encoded data removed]",
      "text/plain": [
       "<Figure size 432x288 with 1 Axes>"
      ]
     },
     "metadata": {},
     "output_type": "display_data"
    }
   ],
   "source": [
    "plt.title(\"Соотношение среднесуточных каллорий и занятий бегом при похудении более чем на {}кг за неделю\".format(THRESHOLD))\n",
    "plt.xlabel(\"Среднее потребление каллорий в неделю\")\n",
    "plt.ylabel(\"Кол-во занятий бегом\")\n",
    "plt.plot(optimal_calories_list, optimal_runs_list, 'o');"
   ]
  },
  {
   "cell_type": "code",
   "execution_count": 149,
   "metadata": {},
   "outputs": [
    {
     "data": {
      "image/png": "[encoded data removed]",
      "text/plain": [
       "<Figure size 432x288 with 1 Axes>"
      ]
     },
     "metadata": {},
     "output_type": "display_data"
    }
   ],
   "source": [
    "optimal_carbs_list = df_optimal['carbs'].tolist()\n",
    "plt.title(\"Соотношение среднесуточных углеводов и занятий бегом при похудении более чем на {}кг за неделю\".format(THRESHOLD))\n",
    "plt.xlabel(\"Среднее потребление углей в неделю\")\n",
    "plt.ylabel(\"Кол-во занятий бегом\")\n",
    "plt.plot(optimal_carbs_list, optimal_runs_list, 'o');"
   ]
  },
  {
   "cell_type": "code",
   "execution_count": 98,
   "metadata": {},
   "outputs": [],
   "source": [
    "NON_optimal_calories_list = df_NON_optimal['kcal'].tolist()\n",
    "NON_optimal_runs_list = df_NON_optimal['runs'].tolist()"
   ]
  },
  {
   "cell_type": "code",
   "execution_count": 99,
   "metadata": {},
   "outputs": [
    {
     "data": {
      "image/png": "[encoded data removed]",
      "text/plain": [
       "<Figure size 432x288 with 1 Axes>"
      ]
     },
     "metadata": {},
     "output_type": "display_data"
    }
   ],
   "source": [
    "plt.plot(NON_optimal_calories_list, NON_optimal_runs_list, 'o', color = 'red');"
   ]
  },
  {
   "cell_type": "markdown",
   "metadata": {},
   "source": [
    "LogReg"
   ]
  },
  {
   "cell_type": "code",
   "execution_count": 30,
   "metadata": {},
   "outputs": [],
   "source": [
    "from sklearn.linear_model import LinearRegression"
   ]
  },
  {
   "cell_type": "code",
   "execution_count": 32,
   "metadata": {},
   "outputs": [
    {
     "data": {
      "text/html": [
       "<div>\n",
       "<style scoped>\n",
       "    .dataframe tbody tr th:only-of-type {\n",
       "        vertical-align: middle;\n",
       "    }\n",
       "\n",
       "    .dataframe tbody tr th {\n",
       "        vertical-align: top;\n",
       "    }\n",
       "\n",
       "    .dataframe thead th {\n",
       "        text-align: right;\n",
       "    }\n",
       "</style>\n",
       "<table border=\"1\" class=\"dataframe\">\n",
       "  <thead>\n",
       "    <tr style=\"text-align: right;\">\n",
       "      <th></th>\n",
       "      <th>weekind</th>\n",
       "      <th>prot</th>\n",
       "      <th>fat</th>\n",
       "      <th>carbs</th>\n",
       "      <th>kcal</th>\n",
       "      <th>runs</th>\n",
       "      <th>gyms</th>\n",
       "      <th>weight_begin</th>\n",
       "      <th>weight_end</th>\n",
       "      <th>week_explicit_name</th>\n",
       "      <th>comment</th>\n",
       "      <th>weight_change</th>\n",
       "    </tr>\n",
       "  </thead>\n",
       "  <tbody>\n",
       "    <tr>\n",
       "      <th>0</th>\n",
       "      <td>2</td>\n",
       "      <td>98</td>\n",
       "      <td>79</td>\n",
       "      <td>348</td>\n",
       "      <td>2271</td>\n",
       "      <td>2</td>\n",
       "      <td>0</td>\n",
       "      <td>93.5</td>\n",
       "      <td>93.8</td>\n",
       "      <td>11-17 янв</td>\n",
       "      <td>NaN</td>\n",
       "      <td>0.3</td>\n",
       "    </tr>\n",
       "    <tr>\n",
       "      <th>1</th>\n",
       "      <td>3</td>\n",
       "      <td>108</td>\n",
       "      <td>91</td>\n",
       "      <td>325</td>\n",
       "      <td>2398</td>\n",
       "      <td>2</td>\n",
       "      <td>0</td>\n",
       "      <td>94.3</td>\n",
       "      <td>94.1</td>\n",
       "      <td>18-24 янв</td>\n",
       "      <td>NaN</td>\n",
       "      <td>-0.2</td>\n",
       "    </tr>\n",
       "    <tr>\n",
       "      <th>2</th>\n",
       "      <td>4</td>\n",
       "      <td>99</td>\n",
       "      <td>103</td>\n",
       "      <td>272</td>\n",
       "      <td>2398</td>\n",
       "      <td>1</td>\n",
       "      <td>3</td>\n",
       "      <td>94.1</td>\n",
       "      <td>94.7</td>\n",
       "      <td>25-31 янв</td>\n",
       "      <td>NaN</td>\n",
       "      <td>0.6</td>\n",
       "    </tr>\n",
       "    <tr>\n",
       "      <th>3</th>\n",
       "      <td>5</td>\n",
       "      <td>106</td>\n",
       "      <td>97</td>\n",
       "      <td>262</td>\n",
       "      <td>2290</td>\n",
       "      <td>1</td>\n",
       "      <td>1</td>\n",
       "      <td>94.7</td>\n",
       "      <td>94.2</td>\n",
       "      <td>1-7 фев</td>\n",
       "      <td>NaN</td>\n",
       "      <td>-0.5</td>\n",
       "    </tr>\n",
       "    <tr>\n",
       "      <th>4</th>\n",
       "      <td>6</td>\n",
       "      <td>88</td>\n",
       "      <td>61</td>\n",
       "      <td>236</td>\n",
       "      <td>1770</td>\n",
       "      <td>2</td>\n",
       "      <td>1</td>\n",
       "      <td>94.2</td>\n",
       "      <td>93.1</td>\n",
       "      <td>8-14 фев</td>\n",
       "      <td>NaN</td>\n",
       "      <td>-1.1</td>\n",
       "    </tr>\n",
       "  </tbody>\n",
       "</table>\n",
       "</div>"
      ],
      "text/plain": [
       "   weekind  prot  fat  carbs  kcal  runs  gyms  weight_begin  weight_end  \\\n",
       "0        2    98   79    348  2271     2     0          93.5        93.8   \n",
       "1        3   108   91    325  2398     2     0          94.3        94.1   \n",
       "2        4    99  103    272  2398     1     3          94.1        94.7   \n",
       "3        5   106   97    262  2290     1     1          94.7        94.2   \n",
       "4        6    88   61    236  1770     2     1          94.2        93.1   \n",
       "\n",
       "  week_explicit_name comment  weight_change  \n",
       "0          11-17 янв     NaN            0.3  \n",
       "1          18-24 янв     NaN           -0.2  \n",
       "2          25-31 янв     NaN            0.6  \n",
       "3            1-7 фев     NaN           -0.5  \n",
       "4           8-14 фев     NaN           -1.1  "
      ]
     },
     "execution_count": 32,
     "metadata": {},
     "output_type": "execute_result"
    }
   ],
   "source": [
    "df.head()"
   ]
  },
  {
   "cell_type": "code",
   "execution_count": 56,
   "metadata": {},
   "outputs": [],
   "source": [
    "reg = LinearRegression()"
   ]
  },
  {
   "cell_type": "code",
   "execution_count": 46,
   "metadata": {},
   "outputs": [],
   "source": [
    "X = df[['runs','kcal']].values\n",
    "y = df['weight_change'].to_numpy()"
   ]
  },
  {
   "cell_type": "code",
   "execution_count": 50,
   "metadata": {},
   "outputs": [
    {
     "data": {
      "text/plain": [
       "LinearRegression()"
      ]
     },
     "execution_count": 50,
     "metadata": {},
     "output_type": "execute_result"
    }
   ],
   "source": [
    "reg.fit(X,y)"
   ]
  },
  {
   "cell_type": "code",
   "execution_count": 51,
   "metadata": {},
   "outputs": [
    {
     "data": {
      "text/plain": [
       "0.21035746195680893"
      ]
     },
     "execution_count": 51,
     "metadata": {},
     "output_type": "execute_result"
    }
   ],
   "source": [
    "reg.score(X, y)"
   ]
  },
  {
   "cell_type": "code",
   "execution_count": 57,
   "metadata": {},
   "outputs": [
    {
     "data": {
      "text/plain": [
       "[0, 0, 0.6000000000000085]"
      ]
     },
     "execution_count": 57,
     "metadata": {},
     "output_type": "execute_result"
    }
   ],
   "source": [
    "y_adj = [0 if el > -0.3 and el < 0.3 else el for el in y]\n",
    "y_adj[:3]"
   ]
  },
  {
   "cell_type": "code",
   "execution_count": 60,
   "metadata": {},
   "outputs": [
    {
     "data": {
      "text/plain": [
       "(0.21267388329978032, array([-0.19332016,  0.00129151]))"
      ]
     },
     "execution_count": 60,
     "metadata": {},
     "output_type": "execute_result"
    }
   ],
   "source": [
    "reg = LinearRegression().fit(X,y_adj)\n",
    "reg.score(X, y_adj), reg.coef_"
   ]
  },
  {
   "cell_type": "code",
   "execution_count": 103,
   "metadata": {},
   "outputs": [
    {
     "data": {
      "text/plain": [
       "[1,\n",
       " 0,\n",
       " 1,\n",
       " 0,\n",
       " 0,\n",
       " 0,\n",
       " 1,\n",
       " 0,\n",
       " 0,\n",
       " 0,\n",
       " 1,\n",
       " 1,\n",
       " 0,\n",
       " 0,\n",
       " 0,\n",
       " 1,\n",
       " 1,\n",
       " 0,\n",
       " 0,\n",
       " 1,\n",
       " 0,\n",
       " 1,\n",
       " 0,\n",
       " 1,\n",
       " 0,\n",
       " 1,\n",
       " 1,\n",
       " 1,\n",
       " 0]"
      ]
     },
     "execution_count": 103,
     "metadata": {},
     "output_type": "execute_result"
    }
   ],
   "source": [
    "y_class = [0 if el <0 else 1 for el in y]\n",
    "y_class"
   ]
  },
  {
   "cell_type": "code",
   "execution_count": 104,
   "metadata": {},
   "outputs": [],
   "source": [
    "from sklearn.linear_model import LogisticRegression"
   ]
  },
  {
   "cell_type": "code",
   "execution_count": 112,
   "metadata": {},
   "outputs": [],
   "source": [
    "clf = LogisticRegression(random_state=0).fit(X, y_class)"
   ]
  },
  {
   "cell_type": "code",
   "execution_count": 113,
   "metadata": {},
   "outputs": [
    {
     "data": {
      "text/plain": [
       "0.6896551724137931"
      ]
     },
     "execution_count": 113,
     "metadata": {},
     "output_type": "execute_result"
    }
   ],
   "source": [
    "clf.score(X, y_class)"
   ]
  },
  {
   "cell_type": "code",
   "execution_count": 124,
   "metadata": {},
   "outputs": [
    {
     "data": {
      "text/plain": [
       "[-0.695666753333331, 0.0005270924357564642]"
      ]
     },
     "execution_count": 124,
     "metadata": {},
     "output_type": "execute_result"
    }
   ],
   "source": [
    "importance"
   ]
  },
  {
   "cell_type": "code",
   "execution_count": 125,
   "metadata": {},
   "outputs": [
    {
     "name": "stdout",
     "output_type": "stream",
     "text": [
      "Feature: 0, Score: -0.695666753333331\n",
      "Feature: 1, Score: 0.0005270924357564642\n"
     ]
    }
   ],
   "source": [
    "importance = clf.coef_[0].tolist()\n",
    "# summarize feature importance\n",
    "for i,v in enumerate(importance):\n",
    "\tprint('Feature: {}, Score: {}'.format(i,v))"
   ]
  },
  {
   "cell_type": "code",
   "execution_count": 126,
   "metadata": {},
   "outputs": [
    {
     "data": {
      "image/png": "[encoded data removed]",
      "text/plain": [
       "<Figure size 432x288 with 1 Axes>"
      ]
     },
     "metadata": {},
     "output_type": "display_data"
    }
   ],
   "source": [
    "plt.bar([x for x in range(len(importance))], importance)\n",
    "plt.show()"
   ]
  },
  {
   "cell_type": "code",
   "execution_count": 108,
   "metadata": {},
   "outputs": [],
   "source": [
    "X_more_feat = df[['prot','fat','carbs','runs','kcal']].values"
   ]
  },
  {
   "cell_type": "code",
   "execution_count": 109,
   "metadata": {},
   "outputs": [],
   "source": [
    "clf = LogisticRegression(random_state=0).fit(X_more_feat, y_class)"
   ]
  },
  {
   "cell_type": "code",
   "execution_count": 110,
   "metadata": {},
   "outputs": [
    {
     "data": {
      "text/plain": [
       "0.6551724137931034"
      ]
     },
     "execution_count": 110,
     "metadata": {},
     "output_type": "execute_result"
    }
   ],
   "source": [
    "clf.score(X_more_feat, y_class)"
   ]
  }
 ],
 "metadata": {
  "kernelspec": {
   "display_name": "Python 3",
   "language": "python",
   "name": "python3"
  },
  "language_info": {
   "codemirror_mode": {
    "name": "ipython",
    "version": 3
   },
   "file_extension": ".py",
   "mimetype": "text/x-python",
   "name": "python",
   "nbconvert_exporter": "python",
   "pygments_lexer": "ipython3",
   "version": "3.8.10"
  }
 },
 "nbformat": 4,
 "nbformat_minor": 4
}
